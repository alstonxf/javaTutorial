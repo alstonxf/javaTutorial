{
 "cells": [
  {
   "cell_type": "markdown",
   "id": "3bc269cf",
   "metadata": {},
   "source": [
    "# Java Iterator（迭代器）\n",
    "\n",
    "[![Java 集合框架](https://www.runoob.com/images/up.gif) Java 集合框架](https://www.runoob.com/java/java-collections.html)\n",
    "\n",
    "Java Iterator（迭代器）不是一个集合，它是一种用于访问集合的方法，可用于迭代 [ArrayList](https://www.runoob.com/java/java-arraylist.html) 和 [HashSet](https://www.runoob.com/java/java-hashset.html) 等集合。\n",
    "\n",
    "Iterator 是 Java 迭代器最简单的实现，ListIterator 是 Collection API 中的接口， 它扩展了 Iterator 接口。\n",
    "\n",
    "![img](https://www.runoob.com/wp-content/uploads/2020/07/ListIterator-Class-Diagram.jpg)\n",
    "\n",
    "迭代器 it 的两个基本操作是 next 、hasNext 和 remove。\n",
    "\n",
    "调用 it.next() 会返回迭代器的下一个元素，并且更新迭代器的状态。\n",
    "\n",
    "调用 it.hasNext() 用于检测集合中是否还有元素。\n",
    "\n",
    "调用 it.remove() 将迭代器返回的元素删除。\n",
    "\n",
    "Iterator 类位于 java.util 包中，使用前需要引入它，语法格式如下：\n",
    "\n",
    "```\n",
    "import java.util.Iterator; // 引入 Iterator 类\n",
    "```\n",
    "\n",
    "### 获取一个迭代器\n",
    "\n",
    "集合想获取一个迭代器可以使用 iterator() 方法:\n",
    "\n",
    "## 实例\n"
   ]
  },
  {
   "cell_type": "code",
   "execution_count": 8,
   "id": "7ed089cd",
   "metadata": {},
   "outputs": [],
   "source": [
    "// 引入 ArrayList 和 Iterator 类\n",
    "import java.util.ArrayList;\n",
    "import java.util.Iterator;\n",
    "\n",
    "public class RunoobTest {\n",
    "    public static void main(String[] args) {\n",
    "\n",
    "        // 创建集合\n",
    "        ArrayList<String> sites = new ArrayList<String>();\n",
    "        sites.add(\"Google\");\n",
    "        sites.add(\"Runoob\");\n",
    "        sites.add(\"Taobao\");\n",
    "        sites.add(\"Zhihu\");\n",
    "\n",
    "        // 获取迭代器\n",
    "        Iterator<String> it = sites.iterator();\n",
    "\n",
    "        // 输出集合中的第一个元素\n",
    "        System.out.println(it.next());\n",
    "    }\n",
    "}\n"
   ]
  },
  {
   "cell_type": "code",
   "execution_count": 9,
   "id": "b3acf9be",
   "metadata": {},
   "outputs": [
    {
     "name": "stdout",
     "output_type": "stream",
     "text": [
      "Google\r\n"
     ]
    }
   ],
   "source": [
    "        // 创建集合\n",
    "        ArrayList<String> sites = new ArrayList<String>();\n",
    "        sites.add(\"Google\");\n",
    "        sites.add(\"Runoob\");\n",
    "        sites.add(\"Taobao\");\n",
    "        sites.add(\"Zhihu\");\n",
    "\n",
    "        // 获取迭代器\n",
    "        Iterator<String> it = sites.iterator();\n",
    "\n",
    "        // 输出集合中的第一个元素\n",
    "        System.out.println(it.next());"
   ]
  },
  {
   "cell_type": "markdown",
   "id": "0a964b22",
   "metadata": {},
   "source": [
    "```\n",
    "\n",
    "执行以上代码，输出结果如下：\n",
    "\n",
    "```\n",
    "Google\n",
    "```\n",
    "\n",
    "### 循环集合元素\n",
    "\n",
    "让迭代器 it 逐个返回集合中所有元素最简单的方法是使用 while 循环：\n"
   ]
  },
  {
   "cell_type": "markdown",
   "id": "c2c91f6c",
   "metadata": {},
   "source": [
    "while(it.hasNext()) {\n",
    "    System.out.println(it.next());\n",
    "}"
   ]
  },
  {
   "cell_type": "markdown",
   "id": "aea51a34",
   "metadata": {},
   "source": [
    "```\n",
    "\n",
    "以下输出集合 sites 中的所有元素：\n",
    "\n",
    "## 实例\n",
    "\n",
    "```\n"
   ]
  },
  {
   "cell_type": "code",
   "execution_count": 10,
   "id": "b4a49fa8",
   "metadata": {},
   "outputs": [],
   "source": [
    "// 引入 ArrayList 和 Iterator 类\n",
    "import java.util.ArrayList;\n",
    "import java.util.Iterator;\n",
    "\n",
    "public class RunoobTest {\n",
    "    public static void main(String[] args) {\n",
    "\n",
    "        // 创建集合\n",
    "        ArrayList<String> sites = new ArrayList<String>();\n",
    "        sites.add(\"Google\");\n",
    "        sites.add(\"Runoob\");\n",
    "        sites.add(\"Taobao\");\n",
    "        sites.add(\"Zhihu\");\n",
    "\n",
    "        // 获取迭代器\n",
    "        Iterator<String> it = sites.iterator();\n",
    "\n",
    "        // 输出集合中的所有元素\n",
    "        while(it.hasNext()) {\n",
    "            System.out.println(it.next());\n",
    "        }\n",
    "    }\n",
    "}\n"
   ]
  },
  {
   "cell_type": "code",
   "execution_count": 11,
   "id": "f4c4f01d",
   "metadata": {},
   "outputs": [
    {
     "name": "stdout",
     "output_type": "stream",
     "text": [
      "Google\n",
      "Runoob\n",
      "Taobao\n",
      "Zhihu\n"
     ]
    }
   ],
   "source": [
    "        // 创建集合\n",
    "        ArrayList<String> sites = new ArrayList<String>();\n",
    "        sites.add(\"Google\");\n",
    "        sites.add(\"Runoob\");\n",
    "        sites.add(\"Taobao\");\n",
    "        sites.add(\"Zhihu\");\n",
    "\n",
    "        // 获取迭代器\n",
    "        Iterator<String> it = sites.iterator();\n",
    "\n",
    "        // 输出集合中的所有元素\n",
    "        while(it.hasNext()) {\n",
    "            System.out.println(it.next());\n",
    "        }"
   ]
  },
  {
   "cell_type": "markdown",
   "id": "0d2eb254",
   "metadata": {},
   "source": [
    "```\n",
    "\n",
    "执行以上代码，输出结果如下：\n",
    "\n",
    "```\n",
    "Google\n",
    "Runoob\n",
    "Taobao\n",
    "Zhihu\n",
    "```\n",
    "\n",
    "删除元素\n",
    "\n",
    "要删除集合中的元素可以使用 remove() 方法。\n",
    "\n",
    "以下实例我们删除集合中小于 10 的元素：\n",
    "\n",
    "## 实例\n",
    "\n",
    "```\n"
   ]
  },
  {
   "cell_type": "code",
   "execution_count": 14,
   "id": "2dac58b3",
   "metadata": {},
   "outputs": [],
   "source": [
    "// 引入 ArrayList 和 Iterator 类\n",
    "import java.util.ArrayList;\n",
    "import java.util.Iterator;\n",
    "\n",
    "public class RunoobTest {\n",
    "    public static void main(String[] args) {\n",
    "        ArrayList<Integer> numbers = new ArrayList<Integer>();\n",
    "        numbers.add(12);\n",
    "        numbers.add(8);\n",
    "        numbers.add(2);\n",
    "        numbers.add(23);\n",
    "        Iterator<Integer> it = numbers.iterator();\n",
    "        while(it.hasNext()) {\n",
    "            Integer i = it.next();\n",
    "            if(i < 10) {  \n",
    "                it.remove();  // 删除小于 10 的元素\n",
    "            }\n",
    "        }\n",
    "        System.out.println(numbers);\n",
    "    }\n",
    "}\n"
   ]
  },
  {
   "cell_type": "code",
   "execution_count": 15,
   "id": "b114f0f3",
   "metadata": {},
   "outputs": [
    {
     "name": "stdout",
     "output_type": "stream",
     "text": [
      "[12, 23]\r\n"
     ]
    }
   ],
   "source": [
    "        ArrayList<Integer> numbers = new ArrayList<Integer>();\n",
    "        numbers.add(12);\n",
    "        numbers.add(8);\n",
    "        numbers.add(2);\n",
    "        numbers.add(23);\n",
    "        Iterator<Integer> it = numbers.iterator();\n",
    "        while(it.hasNext()) {\n",
    "            Integer i = it.next();\n",
    "            if(i < 10) {  \n",
    "                it.remove();  // 删除小于 10 的元素\n",
    "            }\n",
    "        }\n",
    "        System.out.println(numbers);"
   ]
  },
  {
   "cell_type": "markdown",
   "id": "92f755d4",
   "metadata": {},
   "source": [
    "```\n",
    "\n",
    "执行以上代码，输出结果如下：\n",
    "\n",
    "```\n",
    "[12, 23]\n",
    "```"
   ]
  },
  {
   "cell_type": "code",
   "execution_count": 17,
   "id": "0966c994",
   "metadata": {},
   "outputs": [
    {
     "name": "stdout",
     "output_type": "stream",
     "text": [
      "[12, 23]\r\n"
     ]
    }
   ],
   "source": [
    "        ArrayList<Integer> numbers = new ArrayList<Integer>();\n",
    "        numbers.add(12);\n",
    "        numbers.add(8);\n",
    "        numbers.add(2);\n",
    "        numbers.add(23);\n",
    "        Iterator<Integer> it = numbers.iterator();\n",
    "        while(it.hasNext()) {\n",
    "            Integer i = it.next();\n",
    "            if(i < 10) {  \n",
    "                it.remove();  // 删除小于 10 的元素\n",
    "            }\n",
    "        }\n",
    "        System.out.println(numbers);"
   ]
  },
  {
   "cell_type": "markdown",
   "id": "c2375bff",
   "metadata": {},
   "source": [
    "```\n",
    "\n",
    "执行以上代码，输出结果如下：\n",
    "\n",
    "```\n",
    "[12, 23]\n",
    "```"
   ]
  },
  {
   "cell_type": "code",
   "execution_count": null,
   "id": "33b03ad4",
   "metadata": {},
   "outputs": [],
   "source": []
  }
 ],
 "metadata": {
  "kernelspec": {
   "display_name": "Java",
   "language": "java",
   "name": "java"
  },
  "language_info": {
   "codemirror_mode": "java",
   "file_extension": ".jshell",
   "mimetype": "text/x-java-source",
   "name": "Java",
   "pygments_lexer": "java",
   "version": "17.0.3+8-LTS-111"
  }
 },
 "nbformat": 4,
 "nbformat_minor": 5
}
