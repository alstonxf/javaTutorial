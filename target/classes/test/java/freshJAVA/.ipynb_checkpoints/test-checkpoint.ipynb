{
 "cells": [
  {
   "cell_type": "code",
   "execution_count": 1,
   "id": "d85531e4",
   "metadata": {},
   "outputs": [
    {
     "name": "stdout",
     "output_type": "stream",
     "text": [
      "false\r\n"
     ]
    }
   ],
   "source": [
    "        String s1 = \"runoob\";\n",
    "        String s2 = \"runoob\";\n",
    "        System.out.println(\"s1 == s2 is:\" + s1 == s2);"
   ]
  },
  {
   "cell_type": "code",
   "execution_count": 5,
   "id": "fec021ac",
   "metadata": {},
   "outputs": [
    {
     "name": "stdout",
     "output_type": "stream",
     "text": [
      "4\n",
      "5\n"
     ]
    }
   ],
   "source": [
    "        int x=4; \n",
    "        System.out.println(x++); \n",
    "        //x++ 先输出 x 到值，再加上 1。\n",
    "        int y=x++;\n",
    "        System.out.println(y); "
   ]
  },
  {
   "cell_type": "code",
   "execution_count": 6,
   "id": "8ced11f0",
   "metadata": {},
   "outputs": [
    {
     "name": "stdout",
     "output_type": "stream",
     "text": [
      "c = A\r\n"
     ]
    }
   ],
   "source": [
    "char c = 65;\n",
    "System.out.println(\"c = \"+c);\n",
    "//c 变量为 char 类型，65 对应的 ASCII 码为 A。"
   ]
  },
  {
   "cell_type": "code",
   "execution_count": null,
   "id": "b7fad24e",
   "metadata": {},
   "outputs": [],
   "source": []
  }
 ],
 "metadata": {
  "kernelspec": {
   "display_name": "Java",
   "language": "java",
   "name": "java"
  },
  "language_info": {
   "codemirror_mode": "java",
   "file_extension": ".jshell",
   "mimetype": "text/x-java-source",
   "name": "Java",
   "pygments_lexer": "java",
   "version": "17.0.3+8-LTS-111"
  }
 },
 "nbformat": 4,
 "nbformat_minor": 5
}
