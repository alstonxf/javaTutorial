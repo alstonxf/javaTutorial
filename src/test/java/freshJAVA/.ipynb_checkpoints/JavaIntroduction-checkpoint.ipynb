{
 "cells": [
  {
   "cell_type": "markdown",
   "id": "e11a80fe",
   "metadata": {},
   "source": [
    "# Java 教程\n",
    "\n",
    "Java 是由 Sun Microsystems 公司于 1995 年 5 月推出的高级程序设计语言。\n",
    "\n",
    "Java 可运行于多个平台，如 Windows, Mac OS 及其他多种 UNIX 版本的系统。\n",
    "\n",
    "本教程通过简单的实例将让大家更好的了解 Java 编程语言。\n",
    "\n",
    "移动操作系统 Android 大部分的代码采用 Java 编程语言编程。\n",
    "\n",
    "JDK 11 在线中文手册 https://www.runoob.com/manual/jdk11api/index.html"
   ]
  },
  {
   "cell_type": "markdown",
   "id": "654174c4",
   "metadata": {},
   "source": [
    "我的第一个 JAVA 程序\n",
    "以下我们通过一个简单的实例来展示 Java 编程，创建文件 HelloWorld.java(文件名需与类名一致), 代码如下：\n",
    "\n",
    "实例"
   ]
  },
  {
   "cell_type": "code",
   "execution_count": 7,
   "id": "a29339fe",
   "metadata": {},
   "outputs": [],
   "source": [
    "public class HelloWorld {\n",
    "    public static void main(String[] args) {\n",
    "        System.out.println(\"Hello World\");\n",
    "    }\n",
    "}"
   ]
  },
  {
   "cell_type": "markdown",
   "id": "45166979",
   "metadata": {},
   "source": [
    "注：String args[] 与 String[] args 都可以执行，但推荐使用 String[] args，这样可以避免歧义和误读。\n",
    "\n",
    "运行以上实例，输出结果如下：\n",
    "\n",
    "$ javac HelloWorld.java\n",
    "$ java HelloWorld\n",
    "Hello World\n",
    "执行命令解析：\n",
    "以上我们使用了两个命令 javac 和 java。\n",
    "\n",
    "javac 后面跟着的是java文件的文件名，例如 HelloWorld.java。 该命令用于将 java 源文件编译为 class 字节码文件，如： javac HelloWorld.java。\n",
    "\n",
    "运行javac命令后，如果成功编译没有错误的话，会出现一个 HelloWorld.class 的文件。\n",
    "\n",
    "java 后面跟着的是java文件中的类名,例如 HelloWorld 就是类名，如: java HelloWorld。\n",
    "\n",
    "注意：java命令后面不要加.class。"
   ]
  },
  {
   "cell_type": "code",
   "execution_count": 9,
   "id": "6108b881",
   "metadata": {},
   "outputs": [
    {
     "name": "stdout",
     "output_type": "stream",
     "text": [
      "Hello World\r\n"
     ]
    }
   ],
   "source": [
    " System.out.println(\"Hello World\");"
   ]
  },
  {
   "cell_type": "code",
   "execution_count": null,
   "id": "b72d63eb",
   "metadata": {},
   "outputs": [],
   "source": []
  }
 ],
 "metadata": {
  "kernelspec": {
   "display_name": "Java",
   "language": "java",
   "name": "java"
  },
  "language_info": {
   "codemirror_mode": "java",
   "file_extension": ".jshell",
   "mimetype": "text/x-java-source",
   "name": "Java",
   "pygments_lexer": "java",
   "version": "17.0.3+8-LTS-111"
  }
 },
 "nbformat": 4,
 "nbformat_minor": 5
}
