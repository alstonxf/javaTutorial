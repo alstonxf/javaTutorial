{
 "cells": [
  {
   "cell_type": "markdown",
   "id": "80cd715e",
   "metadata": {},
   "source": [
    "# Java HashMap\n",
    "\n",
    "[![Java 集合框架](https://www.runoob.com/images/up.gif) Java 集合框架](https://www.runoob.com/java/java-collections.html)\n",
    "\n",
    "HashMap 是一个散列表，它存储的内容是键值对(key-value)映射。\n",
    "\n",
    "HashMap 实现了 Map 接口，根据键的 HashCode 值存储数据，具有很快的访问速度，最多允许一条记录的键为 null，不支持线程同步。\n",
    "\n",
    "HashMap 是无序的，即不会记录插入的顺序。\n",
    "\n",
    "HashMap 继承于AbstractMap，实现了 Map、Cloneable、java.io.Serializable 接口。\n",
    "\n",
    "![img](https://www.runoob.com/wp-content/uploads/2020/07/WV9wXLl.png)\n",
    "\n",
    "<font color = Tomato size=3 face=\"楷书\">HashMap 的 key 与 value 类型可以相同也可以不同，可以是字符串（String）类型的 key 和 value，也可以是整型（Integer）的 key 和字符串（String）类型的 value。</font>\n",
    "\n",
    "![img](https://static.runoob.com/images/mix/java-map.svg)\n",
    "\n",
    "HashMap 中的元素实际上是对象，一些常见的基本类型可以使用它的包装类。\n",
    "\n",
    "基本类型对应的包装类表如下：\n",
    "\n",
    "| 基本类型 | 引用类型  |\n",
    "| :------- | :-------- |\n",
    "| boolean  | Boolean   |\n",
    "| byte     | Byte      |\n",
    "| short    | Short     |\n",
    "| int      | Integer   |\n",
    "| long     | Long      |\n",
    "| float    | Float     |\n",
    "| double   | Double    |\n",
    "| char     | Character |\n",
    "\n",
    "HashMap 类位于 java.util 包中，使用前需要引入它，语法格式如下：\n",
    "\n",
    "```\n",
    "import java.util.HashMap; // 引入 HashMap 类\n",
    "```\n",
    "\n",
    "以下实例我们创建一个 HashMap 对象 Sites， 整型（Integer）的 key 和字符串（String）类型的 value：\n",
    "\n",
    "```\n",
    "HashMap<Integer, String> Sites = new HashMap<Integer, String>();\n",
    "```\n",
    "\n",
    "### 添加元素\n",
    "\n",
    "<font color = Tomato size=3 face=\"楷书\">HashMap 类提供了很多有用的方法，添加键值对(key-value)可以使用 put() 方法:</font>\n",
    "\n",
    "## 实例\n",
    "\n"
   ]
  },
  {
   "cell_type": "code",
   "execution_count": 14,
   "id": "607105ac",
   "metadata": {},
   "outputs": [],
   "source": [
    "// 引入 HashMap 类      \n",
    "import java.util.HashMap;\n",
    "\n",
    "public class RunoobTest {\n",
    "    public static void main(String[] args) {\n",
    "        // 创建 HashMap 对象 Sites\n",
    "        HashMap<Integer, String> Sites = new HashMap<Integer, String>();\n",
    "        // 添加键值对\n",
    "        Sites.put(1, \"Google\");\n",
    "        Sites.put(2, \"Runoob\");\n",
    "        Sites.put(3, \"Taobao\");\n",
    "        Sites.put(4, \"Zhihu\");\n",
    "        System.out.println(Sites);\n",
    "    }\n",
    "}"
   ]
  },
  {
   "cell_type": "code",
   "execution_count": 15,
   "id": "69a5dfea",
   "metadata": {},
   "outputs": [
    {
     "name": "stdout",
     "output_type": "stream",
     "text": [
      "{1=Google, 2=Runoob, 3=Taobao, 4=Zhihu}\r\n"
     ]
    }
   ],
   "source": [
    "        // 创建 HashMap 对象 Sites\n",
    "        HashMap<Integer, String> Sites = new HashMap<Integer, String>();\n",
    "        // 添加键值对\n",
    "        Sites.put(1, \"Google\");\n",
    "        Sites.put(2, \"Runoob\");\n",
    "        Sites.put(3, \"Taobao\");\n",
    "        Sites.put(4, \"Zhihu\");\n",
    "        System.out.println(Sites);"
   ]
  },
  {
   "cell_type": "markdown",
   "id": "85ab0201",
   "metadata": {},
   "source": [
    "\n",
    "\n",
    "执行以上代码，输出结果如下：\n",
    "\n",
    "```\n",
    "{1=Google, 2=Runoob, 3=Taobao, 4=Zhihu}\n",
    "```\n",
    "\n",
    "以下实例创建一个字符串（String）类型的 key 和字符串（String）类型的 value：\n",
    "\n",
    "## 实例\n",
    "\n"
   ]
  },
  {
   "cell_type": "code",
   "execution_count": 16,
   "id": "d56d5d40",
   "metadata": {},
   "outputs": [],
   "source": [
    "// 引入 HashMap 类      \n",
    "import java.util.HashMap;\n",
    "\n",
    "public class RunoobTest {\n",
    "    public static void main(String[] args) {\n",
    "        // 创建 HashMap 对象 Sites\n",
    "        HashMap<String, String> Sites = new HashMap<String, String>();\n",
    "        // 添加键值对\n",
    "        Sites.put(\"one\", \"Google\");\n",
    "        Sites.put(\"two\", \"Runoob\");\n",
    "        Sites.put(\"three\", \"Taobao\");\n",
    "        Sites.put(\"four\", \"Zhihu\");\n",
    "        System.out.println(Sites);\n",
    "    }\n",
    "}"
   ]
  },
  {
   "cell_type": "markdown",
   "id": "3513d27f",
   "metadata": {},
   "source": [
    "\n",
    "执行以上代码，输出结果如下：\n",
    "\n",
    "\n",
    "{four=Zhihu, one=Google, two=Runoob, three=Taobao}\n",
    "\n",
    "\n",
    "### 访问元素\n",
    "\n",
    "<font color = Tomato size=3 face=\"楷书\">我们可以使用 get(key) 方法来获取 key 对应的 value:</font>\n",
    "\n",
    "## 实例\n"
   ]
  },
  {
   "cell_type": "code",
   "execution_count": 17,
   "id": "d34cf9d5",
   "metadata": {},
   "outputs": [],
   "source": [
    "\n",
    "// 引入 HashMap 类      \n",
    "import java.util.HashMap;\n",
    "\n",
    "public class RunoobTest {\n",
    "    public static void main(String[] args) {\n",
    "        // 创建 HashMap 对象 Sites\n",
    "        HashMap<Integer, String> Sites = new HashMap<Integer, String>();\n",
    "        // 添加键值对\n",
    "        Sites.put(1, \"Google\");\n",
    "        Sites.put(2, \"Runoob\");\n",
    "        Sites.put(3, \"Taobao\");\n",
    "        Sites.put(4, \"Zhihu\");\n",
    "        System.out.println(Sites.get(3));\n",
    "    }\n",
    "}"
   ]
  },
  {
   "cell_type": "code",
   "execution_count": 18,
   "id": "2e5e8532",
   "metadata": {},
   "outputs": [
    {
     "name": "stdout",
     "output_type": "stream",
     "text": [
      "Taobao\r\n"
     ]
    }
   ],
   "source": [
    "        // 创建 HashMap 对象 Sites\n",
    "        HashMap<Integer, String> Sites = new HashMap<Integer, String>();\n",
    "        // 添加键值对\n",
    "        Sites.put(1, \"Google\");\n",
    "        Sites.put(2, \"Runoob\");\n",
    "        Sites.put(3, \"Taobao\");\n",
    "        Sites.put(4, \"Zhihu\");\n",
    "        System.out.println(Sites.get(3));"
   ]
  },
  {
   "cell_type": "markdown",
   "id": "2f64d5d8",
   "metadata": {},
   "source": [
    "\n",
    "\n",
    "执行以上代码，输出结果如下：\n",
    "\n",
    "Taobao\n",
    "\n",
    "\n",
    "### 删除元素\n",
    "\n",
    "<font color = Tomato size=3 face=\"楷书\">我们可以使用 remove(key) 方法来删除 key 对应的键值对(key-value):</font>\n",
    "\n",
    "## 实例\n",
    "\n",
    "```"
   ]
  },
  {
   "cell_type": "code",
   "execution_count": 25,
   "id": "f494ef9e",
   "metadata": {},
   "outputs": [],
   "source": [
    "\n",
    "// 引入 HashMap 类      \n",
    "import java.util.HashMap;\n",
    "\n",
    "public class RunoobTest {\n",
    "    public static void main(String[] args) {\n",
    "        // 创建 HashMap 对象 Sites\n",
    "        HashMap<Integer, String> Sites = new HashMap<Integer, String>();\n",
    "        // 添加键值对\n",
    "        Sites.put(1, \"Google\");\n",
    "        Sites.put(2, \"Runoob\");\n",
    "        Sites.put(3, \"Taobao\");\n",
    "        Sites.put(4, \"Zhihu\");\n",
    "        Sites.remove(4);\n",
    "        System.out.println(Sites);\n",
    "    }\n",
    "}"
   ]
  },
  {
   "cell_type": "code",
   "execution_count": 20,
   "id": "d9387add",
   "metadata": {},
   "outputs": [
    {
     "name": "stdout",
     "output_type": "stream",
     "text": [
      "{1=Google, 2=Runoob, 3=Taobao}\r\n"
     ]
    }
   ],
   "source": [
    "        // 创建 HashMap 对象 Sites\n",
    "        HashMap<Integer, String> Sites = new HashMap<Integer, String>();\n",
    "        // 添加键值对\n",
    "        Sites.put(1, \"Google\");\n",
    "        Sites.put(2, \"Runoob\");\n",
    "        Sites.put(3, \"Taobao\");\n",
    "        Sites.put(4, \"Zhihu\");\n",
    "        Sites.remove(4);\n",
    "        System.out.println(Sites);"
   ]
  },
  {
   "cell_type": "markdown",
   "id": "5f195ddb",
   "metadata": {},
   "source": [
    "\n",
    "执行以上代码，输出结果如下：\n",
    "\n",
    "{1=Google, 2=Runoob, 3=Taobao}\n",
    "\n",
    "\n",
    "<font color = Tomato size=3 face=\"楷书\">删除所有键值对(key-value)可以使用 clear 方法：</font>\n",
    "\n",
    "## 实例\n",
    "\n",
    "```"
   ]
  },
  {
   "cell_type": "code",
   "execution_count": 21,
   "id": "44484fca",
   "metadata": {},
   "outputs": [],
   "source": [
    "\n",
    "// 引入 HashMap 类      \n",
    "import java.util.HashMap;\n",
    "\n",
    "public class RunoobTest {\n",
    "    public static void main(String[] args) {\n",
    "        // 创建 HashMap 对象 Sites\n",
    "        HashMap<Integer, String> Sites = new HashMap<Integer, String>();\n",
    "        // 添加键值对\n",
    "        Sites.put(1, \"Google\");\n",
    "        Sites.put(2, \"Runoob\");\n",
    "        Sites.put(3, \"Taobao\");\n",
    "        Sites.put(4, \"Zhihu\");\n",
    "        Sites.clear();\n",
    "        System.out.println(Sites);\n",
    "    }\n",
    "}"
   ]
  },
  {
   "cell_type": "code",
   "execution_count": 22,
   "id": "9f7a7a2f",
   "metadata": {},
   "outputs": [
    {
     "name": "stdout",
     "output_type": "stream",
     "text": [
      "{}\r\n"
     ]
    }
   ],
   "source": [
    "        // 创建 HashMap 对象 Sites\n",
    "        HashMap<Integer, String> Sites = new HashMap<Integer, String>();\n",
    "        // 添加键值对\n",
    "        Sites.put(1, \"Google\");\n",
    "        Sites.put(2, \"Runoob\");\n",
    "        Sites.put(3, \"Taobao\");\n",
    "        Sites.put(4, \"Zhihu\");\n",
    "        Sites.clear();\n",
    "        System.out.println(Sites);"
   ]
  },
  {
   "cell_type": "markdown",
   "id": "6b9ff74a",
   "metadata": {},
   "source": [
    "\n",
    "\n",
    "执行以上代码，输出结果如下：\n",
    "\n",
    "\n",
    "{}\n",
    "\n",
    "\n",
    "### 计算大小\n",
    "\n",
    "<font color = Tomato size=3 face=\"楷书\">如果要计算 HashMap 中的元素数量可以使用 size() 方法：</font>\n",
    "\n",
    "## 实例\n"
   ]
  },
  {
   "cell_type": "code",
   "execution_count": 23,
   "id": "da91db21",
   "metadata": {},
   "outputs": [],
   "source": [
    "// 引入 HashMap 类      \n",
    "import java.util.HashMap;\n",
    "\n",
    "public class RunoobTest {\n",
    "    public static void main(String[] args) {\n",
    "        // 创建 HashMap 对象 Sites\n",
    "        HashMap<Integer, String> Sites = new HashMap<Integer, String>();\n",
    "        // 添加键值对\n",
    "        Sites.put(1, \"Google\");\n",
    "        Sites.put(2, \"Runoob\");\n",
    "        Sites.put(3, \"Taobao\");\n",
    "        Sites.put(4, \"Zhihu\");\n",
    "        System.out.println(Sites.size());\n",
    "    }\n",
    "}"
   ]
  },
  {
   "cell_type": "markdown",
   "id": "6bd4ad83",
   "metadata": {},
   "source": [
    "\n",
    "\n",
    "执行以上代码，输出结果如下：\n",
    "\n",
    "4\n",
    "\n",
    "\n",
    "### 迭代 HashMap\n",
    "\n",
    "可以使用 for-each 来迭代 HashMap 中的元素。\n",
    "\n",
    "<font color = Tomato size=3 face=\"楷书\">如果你只想获取 key，可以使用 keySet() 方法，然后可以通过 get(key) 获取对应的 value，如果你只想获取 value，可以使用 values() 方法。</font>\n",
    "\n",
    "## 实例\n",
    "\n"
   ]
  },
  {
   "cell_type": "code",
   "execution_count": 24,
   "id": "fd5f7123",
   "metadata": {},
   "outputs": [],
   "source": [
    "\n",
    "// 引入 HashMap 类      \n",
    "import java.util.HashMap;\n",
    "\n",
    "public class RunoobTest {\n",
    "    public static void main(String[] args) {\n",
    "        // 创建 HashMap 对象 Sites\n",
    "        HashMap<Integer, String> Sites = new HashMap<Integer, String>();\n",
    "        // 添加键值对\n",
    "        Sites.put(1, \"Google\");\n",
    "        Sites.put(2, \"Runoob\");\n",
    "        Sites.put(3, \"Taobao\");\n",
    "        Sites.put(4, \"Zhihu\");\n",
    "        // 输出 key 和 value\n",
    "        for (Integer i : Sites.keySet()) {\n",
    "            System.out.println(\"key: \" + i + \" value: \" + Sites.get(i));\n",
    "        }\n",
    "        // 返回所有 value 值\n",
    "        for(String value: Sites.values()) {\n",
    "          // 输出每一个value\n",
    "          System.out.print(value + \", \");\n",
    "        }\n",
    "    }\n",
    "}"
   ]
  },
  {
   "cell_type": "markdown",
   "id": "04711944",
   "metadata": {},
   "source": [
    "\n",
    "```\n",
    "\n",
    "执行以上代码，输出结果如下：\n",
    "\n",
    "```\n",
    "key: 1 value: Google\n",
    "key: 2 value: Runoob\n",
    "key: 3 value: Taobao\n",
    "key: 4 value: Zhihu\n",
    "Google, Runoob, Taobao, Zhihu,\n",
    "```\n",
    "\n",
    "------\n",
    "\n",
    "## Java HashMap 方法\n",
    "\n",
    "hashmap\n",
    "\n",
    "Java HashMap 常用方法列表如下：\n",
    "\n",
    "| 方法                                                         | 描述                                                         |\n",
    "| :----------------------------------------------------------- | :----------------------------------------------------------- |\n",
    "| [clear()](https://www.runoob.com/java/java-hashmap-clear.html) | 删除 hashMap 中的所有键/值对                                 |\n",
    "| [clone()](https://www.runoob.com/java/java-hashmap-clone.html) | 复制一份 hashMap                                             |\n",
    "| [isEmpty()](https://www.runoob.com/java/java-hashmap-isempty.html) | 判断 hashMap 是否为空                                        |\n",
    "| [size()](https://www.runoob.com/java/java-hashmap-size.html) | 计算 hashMap 中键/值对的数量                                 |\n",
    "| [put()](https://www.runoob.com/java/java-hashmap-put.html)   | 将键/值对添加到 hashMap 中                                   |\n",
    "| [putAll()](https://www.runoob.com/java/java-hashmap-putall.html) | 将所有键/值对添加到 hashMap 中                               |\n",
    "| [putIfAbsent()](https://www.runoob.com/java/java-hashmap-putifabsent.html) | 如果 hashMap 中不存在指定的键，则将指定的键/值对插入到 hashMap 中。 |\n",
    "| [remove()](https://www.runoob.com/java/java-hashmap-remove.html) | 删除 hashMap 中指定键 key 的映射关系                         |\n",
    "| [containsKey()](https://www.runoob.com/java/java-hashmap-containskey.html) | 检查 hashMap 中是否存在指定的 key 对应的映射关系。           |\n",
    "| [containsValue()](https://www.runoob.com/java/java-hashmap-containsvalue.html) | 检查 hashMap 中是否存在指定的 value 对应的映射关系。         |\n",
    "| [replace()](https://www.runoob.com/java/java-hashmap-replace.html) | 替换 hashMap 中是指定的 key 对应的 value。                   |\n",
    "| [replaceAll()](https://www.runoob.com/java/java-hashmap-replaceall.html) | 将 hashMap 中的所有映射关系替换成给定的函数所执行的结果。    |\n",
    "| [get()](https://www.runoob.com/java/java-hashmap-get.html)   | 获取指定 key 对应对 value                                    |\n",
    "| [getOrDefault()](https://www.runoob.com/java/java-hashmap-getordefault.html) | 获取指定 key 对应对 value，如果找不到 key ，则返回设置的默认值 |\n",
    "| [forEach()](https://www.runoob.com/java/java-hashmap-foreach.html) | 对 hashMap 中的每个映射执行指定的操作。                      |\n",
    "| [entrySet()](https://www.runoob.com/java/java-hashmap-entryset.html) | 返回 hashMap 中所有映射项的集合集合视图。                    |\n",
    "| [keySet](https://www.runoob.com/java/java-hashmap-keyset.html)() | 返回 hashMap 中所有 key 组成的集合视图。                     |\n",
    "| [values()](https://www.runoob.com/java/java-hashmap-values.html) | 返回 hashMap 中存在的所有 value 值。                         |\n",
    "| [merge()](https://www.runoob.com/java/java-hashmap-merge.html) | 添加键值对到 hashMap 中                                      |\n",
    "| [compute()](https://www.runoob.com/java/java-hashmap-compute.html) | 对 hashMap 中指定 key 的值进行重新计算                       |\n",
    "| [computeIfAbsent()](https://www.runoob.com/java/java-hashmap-computeifabsent.html) | 对 hashMap 中指定 key 的值进行重新计算，如果不存在这个 key，则添加到 hasMap 中 |\n",
    "| [computeIfPresent()](https://www.runoob.com/java/java-hashmap-computeifpresent.html) | 对 hashMap 中指定 key 的值进行重新计算，前提是该 key 存在于 hashMap 中。 |\n",
    "\n",
    "更多 API 方法可以查看：https://www.runoob.com/manual/jdk11api/java.base/java/util/HashMap.html\n",
    "\n",
    "[![Java 集合框架](https://www.runoob.com/images/up.gif) Java 集合框架]("
   ]
  },
  {
   "cell_type": "code",
   "execution_count": null,
   "id": "1947fac0",
   "metadata": {},
   "outputs": [],
   "source": []
  }
 ],
 "metadata": {
  "kernelspec": {
   "display_name": "Java",
   "language": "java",
   "name": "java"
  },
  "language_info": {
   "codemirror_mode": "java",
   "file_extension": ".jshell",
   "mimetype": "text/x-java-source",
   "name": "Java",
   "pygments_lexer": "java",
   "version": "17.0.3+8-LTS-111"
  }
 },
 "nbformat": 4,
 "nbformat_minor": 5
}
